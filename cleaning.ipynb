{
 "cells": [
  {
   "cell_type": "code",
   "execution_count": 17,
   "metadata": {},
   "outputs": [],
   "source": [
    "import pandas as pd\n",
    "from sklearn.model_selection import train_test_split\n",
    "\n",
    "def make_df_from_txt(filepath: str, label: str) -> pd.DataFrame:\n",
    "    with open(filepath) as f:\n",
    "        texts = [{'label': label, 'text': line} for line in f]\n",
    "    return pd.DataFrame(texts, columns=['label','text'])\n",
    "\n",
    "def split_and_save_df(df: pd.DataFrame, name: str) -> None:\n",
    "    y = df.pop('label')\n",
    "    X_train, X_test, y_train, y_test = train_test_split(df, y, test_size=0.2, random_state=11122022)\n",
    "    X_train['label'] = y_train\n",
    "    X_test['label'] = y_test\n",
    "    X_train.to_csv(f'./data/train/{name}.txt', index=False)\n",
    "    X_test.to_csv(f'./data/test/{name}.txt', index=False)\n"
   ]
  },
  {
   "cell_type": "code",
   "execution_count": 18,
   "metadata": {},
   "outputs": [],
   "source": [
    "for name in ['action', 'constituent', 'null', 'property']:\n",
    "    df = make_df_from_txt(f'./data/raw/{name}.txt', name)\n",
    "    split_and_save_df(df, name)"
   ]
  }
 ],
 "metadata": {
  "kernelspec": {
   "display_name": "Python 3.10.6 ('pollydarton')",
   "language": "python",
   "name": "python3"
  },
  "language_info": {
   "codemirror_mode": {
    "name": "ipython",
    "version": 3
   },
   "file_extension": ".py",
   "mimetype": "text/x-python",
   "name": "python",
   "nbconvert_exporter": "python",
   "pygments_lexer": "ipython3",
   "version": "3.10.6"
  },
  "orig_nbformat": 4,
  "vscode": {
   "interpreter": {
    "hash": "a9b78b718931f80fc5e3ab72ed521239234f1386c1c68376b39676895c1cd556"
   }
  }
 },
 "nbformat": 4,
 "nbformat_minor": 2
}
