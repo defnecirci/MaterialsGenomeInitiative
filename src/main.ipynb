{
 "cells": [
  {
   "cell_type": "markdown",
   "id": "83e2458b",
   "metadata": {},
   "source": [
    "# Import Libraries"
   ]
  },
  {
   "cell_type": "code",
   "execution_count": 1,
   "id": "a8abd43e",
   "metadata": {
    "ExecuteTime": {
     "end_time": "2022-11-19T22:02:54.951575Z",
     "start_time": "2022-11-19T22:02:53.766677Z"
    }
   },
   "outputs": [],
   "source": [
    "import pandas as pd\n",
    "import numpy as np\n",
    "\n",
    "import nltk\n",
    "\n",
    "import itertools"
   ]
  },
  {
   "cell_type": "markdown",
   "id": "0930126a",
   "metadata": {},
   "source": [
    "# Load Data"
   ]
  },
  {
   "cell_type": "code",
   "execution_count": 2,
   "id": "c439b4cb",
   "metadata": {
    "ExecuteTime": {
     "end_time": "2022-11-19T22:02:54.972308Z",
     "start_time": "2022-11-19T22:02:54.954293Z"
    }
   },
   "outputs": [
    {
     "data": {
      "text/plain": [
       "rec.array([('nano composites were prepared by dispersing barium titanate  BT  and/or oMMT clay particles in epoxy resin.', 'action'),\n",
       "           ('In this process, the magnetic stirring lasted 2 h at room temperature.', 'action'),\n",
       "           ('This coating heating cycle was repeated several times to achieve the desired film thickness', 'action')],\n",
       "          dtype=[('text', 'O'), ('label', 'O')])"
      ]
     },
     "execution_count": 2,
     "metadata": {},
     "output_type": "execute_result"
    }
   ],
   "source": [
    "df = pd.read_csv('../data/train.tsv', sep='\\t')\n",
    "train_data = df.to_records(index=False)\n",
    "train_data[:3]"
   ]
  },
  {
   "cell_type": "markdown",
   "id": "b8d44f2f",
   "metadata": {},
   "source": [
    "## Preprocess (sentence level)"
   ]
  },
  {
   "cell_type": "code",
   "execution_count": 3,
   "id": "ecb356ed",
   "metadata": {
    "ExecuteTime": {
     "end_time": "2022-11-19T22:02:54.986378Z",
     "start_time": "2022-11-19T22:02:54.981815Z"
    }
   },
   "outputs": [],
   "source": [
    "from sentence_level_preprocess import *"
   ]
  },
  {
   "cell_type": "code",
   "execution_count": 4,
   "id": "20767255",
   "metadata": {
    "ExecuteTime": {
     "end_time": "2022-11-19T22:02:55.013581Z",
     "start_time": "2022-11-19T22:02:54.988467Z"
    }
   },
   "outputs": [],
   "source": [
    "# remove line breaks (e.g. \"elec- tron\" -> \"electron\")\n",
    "train_data = [(rm_linebreaks(t), l) for t, l in train_data]\n",
    "\n",
    "# lower case\n",
    "train_data = [(t.lower(), l) for t, l in train_data]\n",
    "\n",
    "# unify expressions for temperature (e.g. '° c' -> '<temp>')\n",
    "train_data = [(c2temp_2(t), l) for t, l in train_data]"
   ]
  },
  {
   "cell_type": "markdown",
   "id": "f22f13ba",
   "metadata": {},
   "source": [
    "## Tokenize"
   ]
  },
  {
   "cell_type": "code",
   "execution_count": 5,
   "id": "226976ae",
   "metadata": {
    "ExecuteTime": {
     "end_time": "2022-11-19T22:02:55.166486Z",
     "start_time": "2022-11-19T22:02:55.016689Z"
    }
   },
   "outputs": [],
   "source": [
    "train_data = [(nltk.tokenize.word_tokenize(t), l) for t, l in train_data]"
   ]
  },
  {
   "cell_type": "markdown",
   "id": "82c1b577",
   "metadata": {},
   "source": [
    "## Preprocess (word level)"
   ]
  },
  {
   "cell_type": "code",
   "execution_count": 6,
   "id": "f9c6fae2",
   "metadata": {
    "ExecuteTime": {
     "end_time": "2022-11-19T22:02:55.175694Z",
     "start_time": "2022-11-19T22:02:55.169293Z"
    }
   },
   "outputs": [],
   "source": [
    "from word_level_preprocess import *"
   ]
  },
  {
   "cell_type": "code",
   "execution_count": 7,
   "id": "8a1a9755",
   "metadata": {
    "ExecuteTime": {
     "end_time": "2022-11-19T22:02:55.255340Z",
     "start_time": "2022-11-19T22:02:55.178620Z"
    }
   },
   "outputs": [],
   "source": [
    "# recognize integer as '<int>' (e.g. '60' -> '<int>')\n",
    "train_data = [([put_int_together(w) for w in t], l) for t, l in train_data]\n",
    "\n",
    "# recognize decimal as '<dec>' (e.g. '0.5' -> '<dec>')\n",
    "train_data = [([put_decimal_together(w) for w in t], l) for t, l in train_data]\n",
    "\n",
    "# recognize ratioas '<ratio>' (e.g. '1:1' -> '<ratio>')\n",
    "train_data = [([put_ratio_together(w) for w in t], l) for t, l in train_data]\n",
    "\n",
    "# split slash (e.g. 'g/mol' -> '['g', '/', 'mol'])\n",
    "train_data = [([split_slash(w) for w in t], l) for t, l in train_data]\n",
    "train_data = [(list(itertools.chain.from_iterable(t)), l) for t, l in train_data] # flatten\n",
    "\n",
    "# unify expressions for temperature (e.g. '°c' -> '<temp>')\n",
    "train_data = [([c2temp(w) for w in t], l) for t, l in train_data]"
   ]
  },
  {
   "cell_type": "markdown",
   "id": "cfec7525",
   "metadata": {},
   "source": [
    "## Index words"
   ]
  },
  {
   "cell_type": "code",
   "execution_count": 8,
   "id": "499f9e04",
   "metadata": {
    "ExecuteTime": {
     "end_time": "2022-11-19T22:02:55.264598Z",
     "start_time": "2022-11-19T22:02:55.257479Z"
    }
   },
   "outputs": [],
   "source": [
    "from indexation import *"
   ]
  },
  {
   "cell_type": "code",
   "execution_count": 9,
   "id": "d9252a9d",
   "metadata": {
    "ExecuteTime": {
     "end_time": "2022-11-19T22:02:55.275756Z",
     "start_time": "2022-11-19T22:02:55.270797Z"
    }
   },
   "outputs": [],
   "source": [
    "train_texts   = [x[0] for x in train_data]\n",
    "train_targets = [[x[1]] for x in train_data]"
   ]
  },
  {
   "cell_type": "code",
   "execution_count": 10,
   "id": "6653f9aa",
   "metadata": {
    "ExecuteTime": {
     "end_time": "2022-11-19T22:02:55.295359Z",
     "start_time": "2022-11-19T22:02:55.279196Z"
    }
   },
   "outputs": [],
   "source": [
    "train_texts, vocab_size   = word2idx(train_texts)\n",
    "train_targets, _          = word2idx(train_targets)\n",
    "train_targets = [l[0] for l in train_targets]"
   ]
  },
  {
   "cell_type": "code",
   "execution_count": 11,
   "id": "33109191",
   "metadata": {
    "ExecuteTime": {
     "end_time": "2022-11-19T22:02:55.303845Z",
     "start_time": "2022-11-19T22:02:55.298238Z"
    }
   },
   "outputs": [],
   "source": [
    "train_data_idx = list(zip(train_texts, train_targets))"
   ]
  },
  {
   "cell_type": "code",
   "execution_count": 12,
   "id": "ae628c1b",
   "metadata": {
    "ExecuteTime": {
     "end_time": "2022-11-19T22:02:55.318703Z",
     "start_time": "2022-11-19T22:02:55.306588Z"
    }
   },
   "outputs": [
    {
     "data": {
      "text/plain": [
       "[([320,\n",
       "   46,\n",
       "   10,\n",
       "   39,\n",
       "   16,\n",
       "   321,\n",
       "   243,\n",
       "   244,\n",
       "   196,\n",
       "   4,\n",
       "   26,\n",
       "   102,\n",
       "   892,\n",
       "   1360,\n",
       "   37,\n",
       "   11,\n",
       "   25,\n",
       "   31,\n",
       "   2],\n",
       "  0),\n",
       " ([11, 42, 112, 3, 0, 220, 93, 1361, 1, 21, 14, 63, 32, 2], 0),\n",
       " ([42, 893, 274, 651, 8, 275, 276, 120, 13, 652, 0, 277, 147, 83], 0)]"
      ]
     },
     "execution_count": 12,
     "metadata": {},
     "output_type": "execute_result"
    }
   ],
   "source": [
    "train_data_idx[:3]"
   ]
  },
  {
   "cell_type": "markdown",
   "id": "934ff79c",
   "metadata": {},
   "source": [
    "## Featurize"
   ]
  },
  {
   "cell_type": "code",
   "execution_count": 13,
   "id": "bd5adf0c",
   "metadata": {
    "ExecuteTime": {
     "end_time": "2022-11-19T22:02:55.327095Z",
     "start_time": "2022-11-19T22:02:55.322019Z"
    }
   },
   "outputs": [],
   "source": [
    "from featurize import *"
   ]
  },
  {
   "cell_type": "code",
   "execution_count": 14,
   "id": "272e078d",
   "metadata": {
    "ExecuteTime": {
     "end_time": "2022-11-19T22:02:55.784665Z",
     "start_time": "2022-11-19T22:02:55.332862Z"
    }
   },
   "outputs": [],
   "source": [
    "train_data_bow = [(bow(t, vocab_size), l) for t, l in train_data_idx]"
   ]
  },
  {
   "cell_type": "markdown",
   "id": "58df8757",
   "metadata": {},
   "source": [
    "## Train test (validation) split"
   ]
  },
  {
   "cell_type": "code",
   "execution_count": 15,
   "id": "f9198db2",
   "metadata": {
    "ExecuteTime": {
     "end_time": "2022-11-19T22:02:55.792974Z",
     "start_time": "2022-11-19T22:02:55.786901Z"
    }
   },
   "outputs": [],
   "source": [
    "from sklearn.model_selection import train_test_split"
   ]
  },
  {
   "cell_type": "code",
   "execution_count": 16,
   "id": "78fc7478",
   "metadata": {
    "ExecuteTime": {
     "end_time": "2022-11-19T22:02:55.803717Z",
     "start_time": "2022-11-19T22:02:55.795212Z"
    }
   },
   "outputs": [],
   "source": [
    "X = [t for t, l in train_data_bow]\n",
    "y = [l for t, l in train_data_bow]"
   ]
  },
  {
   "cell_type": "code",
   "execution_count": 17,
   "id": "3e46db8c",
   "metadata": {
    "ExecuteTime": {
     "end_time": "2022-11-19T22:02:55.817676Z",
     "start_time": "2022-11-19T22:02:55.810740Z"
    }
   },
   "outputs": [],
   "source": [
    "X_train, X_val, y_train, y_val = train_test_split(X, y, test_size=0.2)"
   ]
  },
  {
   "cell_type": "markdown",
   "id": "e881f4fe",
   "metadata": {},
   "source": [
    "# Learn Classifiers"
   ]
  },
  {
   "cell_type": "markdown",
   "id": "eaf06951",
   "metadata": {},
   "source": [
    "## Logistic regression"
   ]
  },
  {
   "cell_type": "code",
   "execution_count": 18,
   "id": "7a8aace9",
   "metadata": {
    "ExecuteTime": {
     "end_time": "2022-11-19T22:02:55.826192Z",
     "start_time": "2022-11-19T22:02:55.820146Z"
    }
   },
   "outputs": [],
   "source": [
    "from sklearn.linear_model import LogisticRegression"
   ]
  },
  {
   "cell_type": "code",
   "execution_count": 19,
   "id": "a61ec758",
   "metadata": {
    "ExecuteTime": {
     "end_time": "2022-11-19T22:02:56.451369Z",
     "start_time": "2022-11-19T22:02:55.833269Z"
    }
   },
   "outputs": [
    {
     "data": {
      "text/plain": [
       "LogisticRegression()"
      ]
     },
     "execution_count": 19,
     "metadata": {},
     "output_type": "execute_result"
    }
   ],
   "source": [
    "model = LogisticRegression()\n",
    "model.fit(X_train, y_train)"
   ]
  },
  {
   "cell_type": "code",
   "execution_count": 20,
   "id": "d2efe7a6",
   "metadata": {
    "ExecuteTime": {
     "end_time": "2022-11-19T22:02:56.499950Z",
     "start_time": "2022-11-19T22:02:56.455073Z"
    }
   },
   "outputs": [
    {
     "data": {
      "text/plain": [
       "0.8287292817679558"
      ]
     },
     "execution_count": 20,
     "metadata": {},
     "output_type": "execute_result"
    }
   ],
   "source": [
    "model.score(X_val, y_val)"
   ]
  },
  {
   "cell_type": "markdown",
   "id": "662f746a",
   "metadata": {},
   "source": [
    "### Confusion matrix"
   ]
  },
  {
   "cell_type": "code",
   "execution_count": 21,
   "id": "986b17b6",
   "metadata": {
    "ExecuteTime": {
     "end_time": "2022-11-19T22:02:57.921546Z",
     "start_time": "2022-11-19T22:02:56.502867Z"
    }
   },
   "outputs": [],
   "source": [
    "from sklearn.metrics import confusion_matrix\n",
    "\n",
    "import seaborn as sns"
   ]
  },
  {
   "cell_type": "code",
   "execution_count": 22,
   "id": "68e48951",
   "metadata": {
    "ExecuteTime": {
     "end_time": "2022-11-19T22:02:57.967075Z",
     "start_time": "2022-11-19T22:02:57.924990Z"
    }
   },
   "outputs": [],
   "source": [
    "y_pred = model.predict(X_val)\n",
    "cm = confusion_matrix(y_val, y_pred)"
   ]
  },
  {
   "cell_type": "code",
   "execution_count": 23,
   "id": "23a24ebc",
   "metadata": {
    "ExecuteTime": {
     "end_time": "2022-11-19T22:02:58.321837Z",
     "start_time": "2022-11-19T22:02:57.970701Z"
    }
   },
   "outputs": [
    {
     "data": {
      "text/plain": [
       "<AxesSubplot:>"
      ]
     },
     "execution_count": 23,
     "metadata": {},
     "output_type": "execute_result"
    },
    {
     "data": {
      "image/png": "[encoded data removed]",
      "text/plain": [
       "<Figure size 432x288 with 2 Axes>"
      ]
     },
     "metadata": {
      "needs_background": "light"
     },
     "output_type": "display_data"
    }
   ],
   "source": [
    "sns.heatmap(cm, annot=True)"
   ]
  },
  {
   "cell_type": "code",
   "execution_count": 24,
   "id": "c3a1e03e",
   "metadata": {
    "ExecuteTime": {
     "end_time": "2022-11-19T22:02:58.530209Z",
     "start_time": "2022-11-19T22:02:58.326281Z"
    }
   },
   "outputs": [
    {
     "data": {
      "text/plain": [
       "<AxesSubplot:>"
      ]
     },
     "execution_count": 24,
     "metadata": {},
     "output_type": "execute_result"
    },
    {
     "data": {
      "image/png": "[encoded data removed]",
      "text/plain": [
       "<Figure size 432x288 with 2 Axes>"
      ]
     },
     "metadata": {
      "needs_background": "light"
     },
     "output_type": "display_data"
    }
   ],
   "source": [
    "sns.heatmap(cm / np.tile(np.sum(cm, axis=1), (4, 1)).T, annot=True)"
   ]
  },
  {
   "cell_type": "markdown",
   "id": "1b14c934",
   "metadata": {},
   "source": [
    "### Average performance"
   ]
  },
  {
   "cell_type": "code",
   "execution_count": 25,
   "id": "112da4b5",
   "metadata": {
    "ExecuteTime": {
     "end_time": "2022-11-19T22:02:58.548438Z",
     "start_time": "2022-11-19T22:02:58.533010Z"
    }
   },
   "outputs": [],
   "source": [
    "from sklearn.metrics import f1_score"
   ]
  },
  {
   "cell_type": "code",
   "execution_count": 26,
   "id": "44992816",
   "metadata": {
    "ExecuteTime": {
     "end_time": "2022-11-19T22:03:10.534357Z",
     "start_time": "2022-11-19T22:02:58.552332Z"
    }
   },
   "outputs": [
    {
     "name": "stdout",
     "output_type": "stream",
     "text": [
      "mean: 0.8508287292817679\n",
      "std : 0.02297970645644795\n"
     ]
    }
   ],
   "source": [
    "num_trial = 20\n",
    "f1s = []\n",
    "\n",
    "for i in range(num_trial):\n",
    "    X_train, X_val, y_train, y_val = train_test_split(X, y, test_size=0.2)\n",
    "    model = LogisticRegression()\n",
    "    model.fit(X_train, y_train)\n",
    "    y_pred = model.predict(X_val)\n",
    "    f1 = f1_score(y_val, y_pred, average='micro')\n",
    "    f1s.append(f1)\n",
    "\n",
    "print(\"mean:\", np.mean(f1s))\n",
    "print(\"std :\", np.std(f1s))"
   ]
  },
  {
   "cell_type": "markdown",
   "id": "c6424d4f",
   "metadata": {},
   "source": [
    "## SVM"
   ]
  },
  {
   "cell_type": "code",
   "execution_count": null,
   "id": "740f0f80",
   "metadata": {},
   "outputs": [],
   "source": []
  },
  {
   "cell_type": "markdown",
   "id": "e830847b",
   "metadata": {},
   "source": [
    "## Attention"
   ]
  },
  {
   "cell_type": "code",
   "execution_count": null,
   "id": "44f635ad",
   "metadata": {},
   "outputs": [],
   "source": []
  }
 ],
 "metadata": {
  "kernelspec": {
   "display_name": "Python 3 (ipykernel)",
   "language": "python",
   "name": "python3"
  },
  "language_info": {
   "codemirror_mode": {
    "name": "ipython",
    "version": 3
   },
   "file_extension": ".py",
   "mimetype": "text/x-python",
   "name": "python",
   "nbconvert_exporter": "python",
   "pygments_lexer": "ipython3",
   "version": "3.9.10"
  },
  "toc": {
   "base_numbering": 1,
   "nav_menu": {},
   "number_sections": true,
   "sideBar": true,
   "skip_h1_title": false,
   "title_cell": "Table of Contents",
   "title_sidebar": "Contents",
   "toc_cell": false,
   "toc_position": {},
   "toc_section_display": true,
   "toc_window_display": false
  },
  "varInspector": {
   "cols": {
    "lenName": 16,
    "lenType": 16,
    "lenVar": 40
   },
   "kernels_config": {
    "python": {
     "delete_cmd_postfix": "",
     "delete_cmd_prefix": "del ",
     "library": "var_list.py",
     "varRefreshCmd": "print(var_dic_list())"
    },
    "r": {
     "delete_cmd_postfix": ") ",
     "delete_cmd_prefix": "rm(",
     "library": "var_list.r",
     "varRefreshCmd": "cat(var_dic_list()) "
    }
   },
   "types_to_exclude": [
    "module",
    "function",
    "builtin_function_or_method",
    "instance",
    "_Feature"
   ],
   "window_display": false
  }
 },
 "nbformat": 4,
 "nbformat_minor": 5
}
