{
 "cells": [
  {
   "cell_type": "markdown",
   "id": "83e2458b",
   "metadata": {},
   "source": [
    "# Import Libraries"
   ]
  },
  {
   "cell_type": "code",
   "execution_count": 8,
   "id": "a8abd43e",
   "metadata": {
    "ExecuteTime": {
     "end_time": "2022-11-19T05:53:11.252427Z",
     "start_time": "2022-11-19T05:53:11.242987Z"
    }
   },
   "outputs": [],
   "source": [
    "import pandas as pd\n",
    "import numpy as np\n",
    "\n",
    "import nltk\n",
    "\n",
    "from collections import Counter"
   ]
  },
  {
   "cell_type": "markdown",
   "id": "0930126a",
   "metadata": {},
   "source": [
    "# Load Data"
   ]
  },
  {
   "cell_type": "code",
   "execution_count": 2,
   "id": "c439b4cb",
   "metadata": {
    "ExecuteTime": {
     "end_time": "2022-11-19T05:35:12.681420Z",
     "start_time": "2022-11-19T05:35:12.639059Z"
    }
   },
   "outputs": [
    {
     "data": {
      "text/plain": [
       "rec.array([('nano composites were prepared by dispersing barium titanate  BT  and/or oMMT clay particles in epoxy resin.', 'action'),\n",
       "           ('In this process, the magnetic stirring lasted 2 h at room temperature.', 'action'),\n",
       "           ('This coating heating cycle was repeated several times to achieve the desired film thickness', 'action')],\n",
       "          dtype=[('text', 'O'), ('label', 'O')])"
      ]
     },
     "execution_count": 2,
     "metadata": {},
     "output_type": "execute_result"
    }
   ],
   "source": [
    "df = pd.read_csv('../data/train.tsv', sep='\\t')\n",
    "train_data = df.to_records(index=False)\n",
    "train_data[:3]"
   ]
  },
  {
   "cell_type": "markdown",
   "id": "b8d44f2f",
   "metadata": {},
   "source": [
    "## Preprocess"
   ]
  },
  {
   "cell_type": "code",
   "execution_count": 3,
   "id": "ecb356ed",
   "metadata": {
    "ExecuteTime": {
     "end_time": "2022-11-19T05:35:12.768748Z",
     "start_time": "2022-11-19T05:35:12.748009Z"
    }
   },
   "outputs": [],
   "source": [
    "from sentence_level_preprocess import *"
   ]
  },
  {
   "cell_type": "code",
   "execution_count": 4,
   "id": "20767255",
   "metadata": {
    "ExecuteTime": {
     "end_time": "2022-11-19T05:35:12.793658Z",
     "start_time": "2022-11-19T05:35:12.773558Z"
    }
   },
   "outputs": [],
   "source": [
    "# remove line breaks (e.g. \"elec- tron\" -> \"electron\")\n",
    "train_data = [(rm_linebreaks(t), l) for t, l in train_data]\n",
    "\n",
    "# lower case\n",
    "train_data = [(t.lower(), l) for t, l in train_data]"
   ]
  },
  {
   "cell_type": "markdown",
   "id": "f22f13ba",
   "metadata": {},
   "source": [
    "## Tokenize"
   ]
  },
  {
   "cell_type": "code",
   "execution_count": 5,
   "id": "226976ae",
   "metadata": {
    "ExecuteTime": {
     "end_time": "2022-11-19T05:44:31.542806Z",
     "start_time": "2022-11-19T05:44:31.379256Z"
    }
   },
   "outputs": [],
   "source": [
    "train_data = [(nltk.tokenize.word_tokenize(t), l) for t, l in train_data]"
   ]
  },
  {
   "cell_type": "markdown",
   "id": "cfec7525",
   "metadata": {},
   "source": [
    "## Index words"
   ]
  },
  {
   "cell_type": "code",
   "execution_count": 6,
   "id": "26844bd0",
   "metadata": {
    "ExecuteTime": {
     "end_time": "2022-11-19T05:52:42.473141Z",
     "start_time": "2022-11-19T05:52:42.446329Z"
    }
   },
   "outputs": [],
   "source": [
    "train_texts   = [x[0] for x in train_data]\n",
    "train_word_pool   = [w for sentence in train_texts for w in sentence]\n",
    "\n",
    "train_targets = [x[1] for x in train_data]"
   ]
  },
  {
   "cell_type": "code",
   "execution_count": 9,
   "id": "c53b7f50",
   "metadata": {
    "ExecuteTime": {
     "end_time": "2022-11-19T05:53:15.879707Z",
     "start_time": "2022-11-19T05:53:15.872462Z"
    }
   },
   "outputs": [],
   "source": [
    "word_counts = sorted(Counter(train_word_pool).items(), key=lambda x: x[1], reverse=True)\n",
    "label_counts = sorted(Counter(train_targets).items(), key=lambda x: x[1], reverse=True)"
   ]
  },
  {
   "cell_type": "code",
   "execution_count": 10,
   "id": "72ac4c13",
   "metadata": {
    "ExecuteTime": {
     "end_time": "2022-11-19T05:53:17.466596Z",
     "start_time": "2022-11-19T05:53:17.459920Z"
    }
   },
   "outputs": [],
   "source": [
    "word_types = [x[0] for x in word_counts]\n",
    "word_type2idx = {wordtype: i for i, wordtype in enumerate(word_types)}\n",
    "\n",
    "label_types = [x[0] for x in label_counts]\n",
    "label_type2idx = {labeltype: i for i, labeltype in enumerate(label_types)}"
   ]
  },
  {
   "cell_type": "code",
   "execution_count": 11,
   "id": "ae628c1b",
   "metadata": {
    "ExecuteTime": {
     "end_time": "2022-11-19T05:53:17.943782Z",
     "start_time": "2022-11-19T05:53:17.925006Z"
    }
   },
   "outputs": [
    {
     "data": {
      "text/plain": [
       "[([449, 44, 8, 37, 16, 387, 547, 260, 232, 963, 964, 1494, 35, 12, 28, 31, 0],\n",
       "  0),\n",
       " ([109, 64, 116, 2, 1, 233, 97, 1495, 41, 19, 14, 60, 30, 0], 0),\n",
       " ([123, 965, 290, 697, 7, 291, 292, 124, 11, 698, 1, 293, 160, 87], 0)]"
      ]
     },
     "execution_count": 11,
     "metadata": {},
     "output_type": "execute_result"
    }
   ],
   "source": [
    "train_data_idx = [([word_type2idx[w] for w in t], label_type2idx[l]) for t, l in train_data]\n",
    "train_data_idx[:3]"
   ]
  },
  {
   "cell_type": "code",
   "execution_count": 12,
   "id": "2064f79c",
   "metadata": {
    "ExecuteTime": {
     "end_time": "2022-11-19T05:53:19.043688Z",
     "start_time": "2022-11-19T05:53:19.035983Z"
    }
   },
   "outputs": [
    {
     "data": {
      "text/plain": [
       "{'action': 0, 'constituent': 1, nan: 2, 'property': 3}"
      ]
     },
     "execution_count": 12,
     "metadata": {},
     "output_type": "execute_result"
    }
   ],
   "source": [
    "label_type2idx"
   ]
  },
  {
   "cell_type": "markdown",
   "id": "934ff79c",
   "metadata": {},
   "source": [
    "## Featurize"
   ]
  },
  {
   "cell_type": "code",
   "execution_count": 13,
   "id": "bd5adf0c",
   "metadata": {
    "ExecuteTime": {
     "end_time": "2022-11-19T06:01:56.303212Z",
     "start_time": "2022-11-19T06:01:56.296756Z"
    }
   },
   "outputs": [],
   "source": [
    "from featurize import *"
   ]
  },
  {
   "cell_type": "code",
   "execution_count": 14,
   "id": "272e078d",
   "metadata": {
    "ExecuteTime": {
     "end_time": "2022-11-19T06:02:34.196646Z",
     "start_time": "2022-11-19T06:02:33.698294Z"
    }
   },
   "outputs": [],
   "source": [
    "V = len(word_type2idx)\n",
    "\n",
    "# bag of words\n",
    "train_data_bow = [(bow(t, V), l) for t, l in train_data_idx]"
   ]
  },
  {
   "cell_type": "markdown",
   "id": "58df8757",
   "metadata": {},
   "source": [
    "## Train test (validation) split"
   ]
  },
  {
   "cell_type": "code",
   "execution_count": 15,
   "id": "f9198db2",
   "metadata": {
    "ExecuteTime": {
     "end_time": "2022-11-19T06:04:45.437756Z",
     "start_time": "2022-11-19T06:04:45.434137Z"
    }
   },
   "outputs": [],
   "source": [
    "from sklearn.model_selection import train_test_split"
   ]
  },
  {
   "cell_type": "code",
   "execution_count": 16,
   "id": "78fc7478",
   "metadata": {
    "ExecuteTime": {
     "end_time": "2022-11-19T06:05:04.832020Z",
     "start_time": "2022-11-19T06:05:04.827689Z"
    }
   },
   "outputs": [],
   "source": [
    "X = [t for t, l in train_data_bow]\n",
    "y = [l for t, l in train_data_bow]"
   ]
  },
  {
   "cell_type": "code",
   "execution_count": 17,
   "id": "3e46db8c",
   "metadata": {
    "ExecuteTime": {
     "end_time": "2022-11-19T06:05:07.159494Z",
     "start_time": "2022-11-19T06:05:07.153018Z"
    }
   },
   "outputs": [],
   "source": [
    "X_train, X_val, y_train, y_val = train_test_split(X, y, test_size=0.2)"
   ]
  },
  {
   "cell_type": "markdown",
   "id": "e881f4fe",
   "metadata": {},
   "source": [
    "# Learn Classifiers"
   ]
  },
  {
   "cell_type": "markdown",
   "id": "eaf06951",
   "metadata": {},
   "source": [
    "## Logistic regression"
   ]
  },
  {
   "cell_type": "code",
   "execution_count": 18,
   "id": "7a8aace9",
   "metadata": {
    "ExecuteTime": {
     "end_time": "2022-11-19T06:05:59.561785Z",
     "start_time": "2022-11-19T06:05:59.558297Z"
    }
   },
   "outputs": [],
   "source": [
    "from sklearn.linear_model import LogisticRegression"
   ]
  },
  {
   "cell_type": "code",
   "execution_count": 19,
   "id": "a61ec758",
   "metadata": {
    "ExecuteTime": {
     "end_time": "2022-11-19T06:06:09.709602Z",
     "start_time": "2022-11-19T06:06:09.034948Z"
    }
   },
   "outputs": [
    {
     "data": {
      "text/plain": [
       "LogisticRegression()"
      ]
     },
     "execution_count": 19,
     "metadata": {},
     "output_type": "execute_result"
    }
   ],
   "source": [
    "model = LogisticRegression()\n",
    "model.fit(X_train, y_train)"
   ]
  },
  {
   "cell_type": "code",
   "execution_count": 20,
   "id": "d2efe7a6",
   "metadata": {
    "ExecuteTime": {
     "end_time": "2022-11-19T06:06:16.639324Z",
     "start_time": "2022-11-19T06:06:16.574209Z"
    }
   },
   "outputs": [
    {
     "data": {
      "text/plain": [
       "0.8287292817679558"
      ]
     },
     "execution_count": 20,
     "metadata": {},
     "output_type": "execute_result"
    }
   ],
   "source": [
    "model.score(X_val, y_val)"
   ]
  },
  {
   "cell_type": "code",
   "execution_count": 21,
   "id": "112da4b5",
   "metadata": {
    "ExecuteTime": {
     "end_time": "2022-11-19T06:07:00.392271Z",
     "start_time": "2022-11-19T06:07:00.387311Z"
    }
   },
   "outputs": [],
   "source": [
    "from sklearn.metrics import f1_score"
   ]
  },
  {
   "cell_type": "code",
   "execution_count": 22,
   "id": "44992816",
   "metadata": {
    "ExecuteTime": {
     "end_time": "2022-11-19T06:07:35.141639Z",
     "start_time": "2022-11-19T06:07:16.039368Z"
    }
   },
   "outputs": [
    {
     "name": "stdout",
     "output_type": "stream",
     "text": [
      "mean: 0.8383977900552486\n",
      "std : 0.027227817558917622\n"
     ]
    }
   ],
   "source": [
    "num_trial = 20\n",
    "f1s = []\n",
    "\n",
    "for i in range(num_trial):\n",
    "    X_train, X_val, y_train, y_val = train_test_split(X, y, test_size=0.2)\n",
    "    model = LogisticRegression()\n",
    "    model.fit(X_train, y_train)\n",
    "    y_pred = model.predict(X_val)\n",
    "    f1 = f1_score(y_val, y_pred, average='micro')\n",
    "    f1s.append(f1)\n",
    "\n",
    "print(\"mean:\", np.mean(f1s))\n",
    "print(\"std :\", np.std(f1s))"
   ]
  },
  {
   "cell_type": "markdown",
   "id": "c6424d4f",
   "metadata": {},
   "source": [
    "## SVM"
   ]
  },
  {
   "cell_type": "code",
   "execution_count": null,
   "id": "740f0f80",
   "metadata": {},
   "outputs": [],
   "source": []
  },
  {
   "cell_type": "markdown",
   "id": "e830847b",
   "metadata": {},
   "source": [
    "## Attention"
   ]
  },
  {
   "cell_type": "code",
   "execution_count": null,
   "id": "44f635ad",
   "metadata": {},
   "outputs": [],
   "source": []
  }
 ],
 "metadata": {
  "kernelspec": {
   "display_name": "Python 3 (ipykernel)",
   "language": "python",
   "name": "python3"
  },
  "language_info": {
   "codemirror_mode": {
    "name": "ipython",
    "version": 3
   },
   "file_extension": ".py",
   "mimetype": "text/x-python",
   "name": "python",
   "nbconvert_exporter": "python",
   "pygments_lexer": "ipython3",
   "version": "3.9.10"
  },
  "toc": {
   "base_numbering": 1,
   "nav_menu": {},
   "number_sections": true,
   "sideBar": true,
   "skip_h1_title": false,
   "title_cell": "Table of Contents",
   "title_sidebar": "Contents",
   "toc_cell": false,
   "toc_position": {},
   "toc_section_display": true,
   "toc_window_display": false
  },
  "varInspector": {
   "cols": {
    "lenName": 16,
    "lenType": 16,
    "lenVar": 40
   },
   "kernels_config": {
    "python": {
     "delete_cmd_postfix": "",
     "delete_cmd_prefix": "del ",
     "library": "var_list.py",
     "varRefreshCmd": "print(var_dic_list())"
    },
    "r": {
     "delete_cmd_postfix": ") ",
     "delete_cmd_prefix": "rm(",
     "library": "var_list.r",
     "varRefreshCmd": "cat(var_dic_list()) "
    }
   },
   "types_to_exclude": [
    "module",
    "function",
    "builtin_function_or_method",
    "instance",
    "_Feature"
   ],
   "window_display": false
  }
 },
 "nbformat": 4,
 "nbformat_minor": 5
}
